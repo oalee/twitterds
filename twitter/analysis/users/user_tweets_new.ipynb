{
 "cells": [
  {
   "cell_type": "code",
   "execution_count": 1,
   "metadata": {},
   "outputs": [
    {
     "name": "stderr",
     "output_type": "stream",
     "text": [
      "23/06/24 15:41:11 WARN Utils: Your hostname, aleni resolves to a loopback address: 127.0.1.1; using 192.168.1.124 instead (on interface wlp4s0)\n",
      "23/06/24 15:41:11 WARN Utils: Set SPARK_LOCAL_IP if you need to bind to another address\n",
      "Setting default log level to \"WARN\".\n",
      "To adjust logging level use sc.setLogLevel(newLevel). For SparkR, use setLogLevel(newLevel).\n",
      "23/06/24 15:41:12 WARN NativeCodeLoader: Unable to load native-hadoop library for your platform... using builtin-java classes where applicable\n",
      "                                                                                \r"
     ]
    }
   ],
   "source": [
    "\n",
    "import yerbamate\n",
    "env = yerbamate.Environment()\n",
    "\n",
    "from twitter.data.loader.spark import get_tweets_session\n",
    "\n",
    "tweets_df = get_tweets_session(['userId', 'id', 'user.created'])\n",
    "\n",
    "tweets_df = tweets_df.withColumnRenamed(\"user.created\", \"created\")\n",
    "\n",
    "# filter users created >= 2022-09-16\n",
    "tweets_df = tweets_df.filter(tweets_df.created >= '2022-09-16')\n",
    "\n",
    "# groupby userId to get the number of tweets per user\n",
    "tweets_df = tweets_df.groupBy('userId').count()\n",
    "\n",
    "pandas_df = tweets_df.toPandas()\n"
   ]
  },
  {
   "cell_type": "code",
   "execution_count": 2,
   "metadata": {},
   "outputs": [
    {
     "name": "stderr",
     "output_type": "stream",
     "text": [
      "[Stage 2:======================>                            (6936 + 16) / 15681]\r"
     ]
    }
   ],
   "source": [
    "import matplotlib.pyplot as plt\n",
    "\n",
    "# plot the number of tweets per user\n",
    "\n",
    "# Plot the distribution of tweets per user\n",
    "pandas_df['count'].hist(bins=100)\n",
    "plt.title('Distribution of Tweets Per User')\n",
    "plt.xlabel('Number of Tweets')\n",
    "plt.ylabel('Number of Users')\n",
    "plt.show()"
   ]
  }
 ],
 "metadata": {
  "kernelspec": {
   "display_name": "base",
   "language": "python",
   "name": "python3"
  },
  "language_info": {
   "codemirror_mode": {
    "name": "ipython",
    "version": 3
   },
   "file_extension": ".py",
   "mimetype": "text/x-python",
   "name": "python",
   "nbconvert_exporter": "python",
   "pygments_lexer": "ipython3",
   "version": "3.10.9"
  },
  "orig_nbformat": 4
 },
 "nbformat": 4,
 "nbformat_minor": 2
}
