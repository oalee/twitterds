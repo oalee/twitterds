{
 "cells": [
  {
   "cell_type": "code",
   "execution_count": 1,
   "metadata": {},
   "outputs": [
    {
     "name": "stderr",
     "output_type": "stream",
     "text": [
      "23/06/25 18:24:09 WARN Utils: Your hostname, aleni resolves to a loopback address: 127.0.1.1; using 192.168.1.124 instead (on interface wlp4s0)\n",
      "23/06/25 18:24:09 WARN Utils: Set SPARK_LOCAL_IP if you need to bind to another address\n",
      "Setting default log level to \"WARN\".\n",
      "To adjust logging level use sc.setLogLevel(newLevel). For SparkR, use setLogLevel(newLevel).\n",
      "23/06/25 18:24:10 WARN NativeCodeLoader: Unable to load native-hadoop library for your platform... using builtin-java classes where applicable\n"
     ]
    }
   ],
   "source": [
    "import os\n",
    "import yerbamate\n",
    "env = yerbamate.Environment()\n",
    "\n",
    "from twitter.data.loader.spark import get_tweets_session\n",
    "\n",
    "spark = get_tweets_session(\"userId\", \"likesCount\", \"retweetCount\")\n",
    "\n",
    "\n",
    "# distribution of users tweet count(userId)\n",
    "\n",
    "users_distribution = spark.groupBy(\"userId\").count()\n",
    "\n"
   ]
  },
  {
   "cell_type": "code",
   "execution_count": null,
   "metadata": {},
   "outputs": [],
   "source": [
    "\n",
    "# plot user tweet count distribution\n",
    "users_tweet_distribution = users_distribution.toPandas()\n",
    "\n",
    "import matplotlib.pyplot as plt\n",
    "\n",
    "fig, ax = plt.subplots(figsize=(10, 10))\n",
    "ax.hist(users_tweet_distribution[\"count\"], bins=100)\n",
    "ax.set_xlabel(\"Number of tweets\")\n",
    "ax.set_ylabel(\"Number of users\")\n",
    "\n",
    "ax.set_title(\"Distribution of users tweet count\")\n",
    "\n",
    "plt.show()"
   ]
  }
 ],
 "metadata": {
  "kernelspec": {
   "display_name": "base",
   "language": "python",
   "name": "python3"
  },
  "language_info": {
   "codemirror_mode": {
    "name": "ipython",
    "version": 3
   },
   "file_extension": ".py",
   "mimetype": "text/x-python",
   "name": "python",
   "nbconvert_exporter": "python",
   "pygments_lexer": "ipython3",
   "version": "3.10.9"
  },
  "orig_nbformat": 4
 },
 "nbformat": 4,
 "nbformat_minor": 2
}
