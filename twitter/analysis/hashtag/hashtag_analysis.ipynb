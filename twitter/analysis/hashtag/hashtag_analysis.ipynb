{
 "cells": [
  {
   "cell_type": "code",
   "execution_count": 1,
   "metadata": {},
   "outputs": [],
   "source": [
    "import yerbamate\n",
    "import os\n",
    "env = yerbamate.Environment()\n",
    "import pandas as pd\n",
    "\n",
    "path = os.path.join(env[\"plots\"], \"analysis\", \"user_hashtag.parquet\")\n",
    "\n",
    "df = pd.read_parquet(path)"
   ]
  },
  {
   "cell_type": "code",
   "execution_count": 8,
   "metadata": {},
   "outputs": [],
   "source": [
    "\n",
    "# get top 50 hashtags\n",
    "\n",
    "hashtag_counts = df.groupby(\"hashtag\")\n",
    "# sover over the groups and sum the counts\n",
    "hashtag_counts = hashtag_counts.agg({\"count\": \"sum\"})\n",
    "\n",
    "\n",
    "# sort the hashtags by count\n",
    "hashtag_counts = hashtag_counts.sort_values(\"count\", ascending=False)\n",
    "# print both hashtag and count"
   ]
  },
  {
   "cell_type": "code",
   "execution_count": 9,
   "metadata": {},
   "outputs": [
    {
     "name": "stdout",
     "output_type": "stream",
     "text": [
      "                                     count\n",
      "hashtag                                   \n",
      "مهسا_امینی                        73409255\n",
      "OpIran                            19736001\n",
      "اعتصابات_سراسری                   14456105\n",
      "MahsaAmini                        13588991\n",
      "IRGCterrorists                     6625876\n",
      "Mahsa_Amini                        3750085\n",
      "نیکا_شاکرمی                        3279432\n",
      "IranRevolution                     1779720\n",
      "اشنویه                             1649857\n",
      "زن_زندگی_آزادی                     1579203\n",
      "توماج_صالحی                        1392313\n",
      "StopHazaraGenocide                 1225973\n",
      "اعتراضات_سراسری                    1176858\n",
      "Oplran                             1140946\n",
      "لبیک_یا_خامنه_ای                    964347\n",
      "جاویدشاه                            958202\n",
      "مهساامینی                           951496\n",
      "mahsaamini                          869485\n",
      "حسین_رونقی                          847212\n",
      "کیرم_تو_بیت_رهبری                   813663\n",
      "Iran                                707190\n",
      "BTS                                 685200\n",
      "oplran                              681066\n",
      "محسن_شکاری                          668171\n",
      "ایران                               628376\n",
      "IranRevoIution                      626619\n",
      "iHeartAwards                        591396\n",
      "من_وکالت_میدهم                      554099\n",
      "انقلاب۱۴۰۱                          509095\n",
      "مهسا_امينی‌                         496493\n",
      "مهسا_‌‌‌‌‌‌‌‌‌‌‌‌‌‌‌‌‌‌‌‌‌امینی     495595\n",
      "نه_به_کشتن_بلوچها                   479167\n",
      "opiran                              473525\n",
      "زاهدان                              465229\n",
      "مجیدرضا_رهنورد                      437666\n",
      "حدیث_نجفی                           434379\n",
      "IranRevolution2022                  426920\n",
      "اعتصاب_سراسری                       424646\n",
      "مرگ_بر_ستمگر_چه_شاه_باشه_چه_رهبر    422750\n",
      "سنندج                               415412\n",
      "عاجل                                412047\n",
      "IranProtests2022                    389528\n",
      "آرمیتا_عباسی                        374801\n",
      "BestMusicVideo                      357229\n",
      "IranProtests                        356925\n",
      "لبنان                               344239\n",
      "مهاباد                              341894\n",
      "WalkoutIRI                          338273\n",
      "IRGCterorrists                      333958\n",
      "نه_به_جمهوري_اسلامي                 317930\n"
     ]
    }
   ],
   "source": [
    "\n",
    "# get top 50 hashtags\\\n",
    "top_hashtags = hashtag_counts.head(50)\n",
    "\n",
    "# print both hashtag and count\n",
    "for hashtag, count in top_hashtags.iterrows():\n",
    "    print(f\"{hashtag}: {count['count']}\")"
   ]
  }
 ],
 "metadata": {
  "kernelspec": {
   "display_name": "base",
   "language": "python",
   "name": "python3"
  },
  "language_info": {
   "codemirror_mode": {
    "name": "ipython",
    "version": 3
   },
   "file_extension": ".py",
   "mimetype": "text/x-python",
   "name": "python",
   "nbconvert_exporter": "python",
   "pygments_lexer": "ipython3",
   "version": "3.10.9"
  },
  "orig_nbformat": 4
 },
 "nbformat": 4,
 "nbformat_minor": 2
}
