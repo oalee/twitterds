{
 "cells": [
  {
   "cell_type": "code",
   "execution_count": 8,
   "metadata": {},
   "outputs": [
    {
     "data": {
      "text/html": [
       "<div>\n",
       "<style scoped>\n",
       "    .dataframe tbody tr th:only-of-type {\n",
       "        vertical-align: middle;\n",
       "    }\n",
       "\n",
       "    .dataframe tbody tr th {\n",
       "        vertical-align: top;\n",
       "    }\n",
       "\n",
       "    .dataframe thead th {\n",
       "        text-align: right;\n",
       "    }\n",
       "</style>\n",
       "<table border=\"1\" class=\"dataframe\">\n",
       "  <thead>\n",
       "    <tr style=\"text-align: right;\">\n",
       "      <th></th>\n",
       "      <th>hashtag</th>\n",
       "      <th>score</th>\n",
       "      <th>community</th>\n",
       "      <th>exclusive_propaganda</th>\n",
       "    </tr>\n",
       "  </thead>\n",
       "  <tbody>\n",
       "    <tr>\n",
       "      <th>0</th>\n",
       "      <td>علاءالسالم</td>\n",
       "      <td>8857.328529</td>\n",
       "      <td>1</td>\n",
       "      <td>1</td>\n",
       "    </tr>\n",
       "    <tr>\n",
       "      <th>1</th>\n",
       "      <td>به_تو_از_دور_سلام</td>\n",
       "      <td>7087.509715</td>\n",
       "      <td>1</td>\n",
       "      <td>0</td>\n",
       "    </tr>\n",
       "    <tr>\n",
       "      <th>2</th>\n",
       "      <td>پایتخت_ما</td>\n",
       "      <td>6062.855591</td>\n",
       "      <td>1</td>\n",
       "      <td>0</td>\n",
       "    </tr>\n",
       "    <tr>\n",
       "      <th>3</th>\n",
       "      <td>میخوانمت</td>\n",
       "      <td>5608.630083</td>\n",
       "      <td>1</td>\n",
       "      <td>0</td>\n",
       "    </tr>\n",
       "    <tr>\n",
       "      <th>4</th>\n",
       "      <td>پایتخت_بصیرت</td>\n",
       "      <td>4852.531424</td>\n",
       "      <td>1</td>\n",
       "      <td>1</td>\n",
       "    </tr>\n",
       "  </tbody>\n",
       "</table>\n",
       "</div>"
      ],
      "text/plain": [
       "             hashtag        score  community  exclusive_propaganda\n",
       "0         علاءالسالم  8857.328529          1                     1\n",
       "1  به_تو_از_دور_سلام  7087.509715          1                     0\n",
       "2          پایتخت_ما  6062.855591          1                     0\n",
       "3           میخوانمت  5608.630083          1                     0\n",
       "4       پایتخت_بصیرت  4852.531424          1                     1"
      ]
     },
     "execution_count": 8,
     "metadata": {},
     "output_type": "execute_result"
    }
   ],
   "source": [
    "import pandas as pd\n",
    "from yerbamate import env\n",
    "import os\n",
    "\n",
    "path = os.path.join(env['save'],'exclusive_hashtag_propaganda.csv')\n",
    "\n",
    "df = pd.read_csv(path)\n",
    "\n",
    "df.head()\n"
   ]
  },
  {
   "cell_type": "code",
   "execution_count": 9,
   "metadata": {},
   "outputs": [],
   "source": [
    "auto_label_dict = {\n",
    "    1: ['Islamic Republic', 'Shia'],\n",
    "    5: ['Monarchy', 'Right'],\n",
    "    6: [\"MEK\", \"Left\"],\n",
    "    7: [\"ReStart\"],\n",
    "}\n",
    "\n",
    "df[\"affiliation\"] = df[\"community\"].map(auto_label_dict)\n",
    "# drop score and community columns\n",
    "df = df.drop(columns=[\"score\", \"community\"])\n",
    "\n",
    "df = df[df[\"exclusive_propaganda\"] >= 1]\n",
    "\n",
    "# drop exclusive_propaganda column\n",
    "df = df.drop(columns=[\"exclusive_propaganda\"])\n",
    "\n",
    "df['label'] = 'Slogan'\n",
    "\n",
    "df.head()\n",
    "\n",
    "df.to_csv(os.path.join(env['save'],'hashtag_propaganda_labeled.csv'),index=False)"
   ]
  }
 ],
 "metadata": {
  "kernelspec": {
   "display_name": "base",
   "language": "python",
   "name": "python3"
  },
  "language_info": {
   "codemirror_mode": {
    "name": "ipython",
    "version": 3
   },
   "file_extension": ".py",
   "mimetype": "text/x-python",
   "name": "python",
   "nbconvert_exporter": "python",
   "pygments_lexer": "ipython3",
   "version": "3.10.9"
  },
  "orig_nbformat": 4
 },
 "nbformat": 4,
 "nbformat_minor": 2
}
