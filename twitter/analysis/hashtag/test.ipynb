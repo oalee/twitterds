{
 "cells": [
  {
   "cell_type": "code",
   "execution_count": 1,
   "metadata": {},
   "outputs": [],
   "source": [
    "import yerbamate\n",
    "\n",
    "env = yerbamate.Environment()\n"
   ]
  },
  {
   "cell_type": "code",
   "execution_count": 3,
   "metadata": {},
   "outputs": [
    {
     "data": {
      "text/plain": [
       "['/home/al/GitHub/twitter/twitter/analysis',\n",
       " '/opt/anaconda/lib/python310.zip',\n",
       " '/opt/anaconda/lib/python3.10',\n",
       " '/opt/anaconda/lib/python3.10/lib-dynload',\n",
       " '',\n",
       " '/home/al/.local/lib/python3.10/site-packages',\n",
       " '/home/al/GitHub/chat-intents',\n",
       " '/home/al/GitHub/llama',\n",
       " '/home/al/GitHub/sentence-transformers',\n",
       " '/home/al/GitHub/yerbamate/packages',\n",
       " '/home/al/GitHub/OpenGPT',\n",
       " '/opt/anaconda/lib/python3.10/site-packages',\n",
       " '/opt/anaconda/lib/python3.10/site-packages/PyQt5_sip-12.11.0-py3.10-linux-x86_64.egg',\n",
       " '/home/al/GitHub/twitter']"
      ]
     },
     "execution_count": 3,
     "metadata": {},
     "output_type": "execute_result"
    }
   ],
   "source": [
    "import sys\n",
    "sys.path"
   ]
  },
  {
   "cell_type": "code",
   "execution_count": 1,
   "metadata": {},
   "outputs": [],
   "source": [
    "from bokeh.models import Range1d, Circle, ColumnDataSource, MultiLine\n",
    "from bokeh.plotting import figure, from_networkx\n",
    "from bokeh.io import show\n",
    "import networkx as nx\n",
    "\n",
    "# Save iGraph as GraphML\n",
    "\n",
    "# Load GraphML as Networkx graph\n",
    "G_nx = nx.read_graphml(\"graph.graphml\")\n",
    "\n",
    "# Create a plot — set dimensions, toolbar, and title\n",
    "plot = figure(plot_width=400, plot_height=400, \n",
    "              tools=\"pan,wheel_zoom,box_zoom,reset\", \n",
    "              active_scroll='wheel_zoom',  \n",
    "              title=\"Networkx Integration Demonstration\")\n",
    "\n",
    "# Create a Bokeh graph from the NetworkX input using nx.spring_layout\n",
    "graph = from_networkx(G_nx, nx.spring_layout, scale=10, center=(0,0))\n",
    "\n",
    "# Add some new columns to the node renderer data source\n",
    "graph.node_renderer.data_source.data['index'] = list(range(len(G_nx)))\n",
    "graph.node_renderer.data_source.data['colors'] = [\"#FF0000\" if node[\"type\"] == \"user\" else \"#0000FF\" for node in G_nx.nodes.values()]\n",
    "\n",
    "# Update node glyphs\n",
    "graph.node_renderer.glyph = Circle(size=15, fill_color='colors')\n",
    "\n",
    "# Update layout\n",
    "plot.renderers.append(graph)\n",
    "\n",
    "# Set the x_range and y_range to fit the data\n",
    "plot.x_range=Range1d(-1.1,1.1)\n",
    "plot.y_range=Range1d(-1.1,1.1)\n",
    "\n",
    "show(plot)"
   ]
  }
 ],
 "metadata": {
  "kernelspec": {
   "display_name": "base",
   "language": "python",
   "name": "python3"
  },
  "language_info": {
   "codemirror_mode": {
    "name": "ipython",
    "version": 3
   },
   "file_extension": ".py",
   "mimetype": "text/x-python",
   "name": "python",
   "nbconvert_exporter": "python",
   "pygments_lexer": "ipython3",
   "version": "3.10.9"
  },
  "orig_nbformat": 4
 },
 "nbformat": 4,
 "nbformat_minor": 2
}
